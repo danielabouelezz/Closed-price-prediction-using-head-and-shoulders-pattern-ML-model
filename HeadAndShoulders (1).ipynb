{
 "cells": [
  {
   "cell_type": "markdown",
   "metadata": {},
   "source": [
    "# Head and Shoulders"
   ]
  },
  {
   "cell_type": "code",
   "execution_count": 68,
   "metadata": {},
   "outputs": [
    {
     "data": {
      "text/html": [
       "<div>\n",
       "<style scoped>\n",
       "    .dataframe tbody tr th:only-of-type {\n",
       "        vertical-align: middle;\n",
       "    }\n",
       "\n",
       "    .dataframe tbody tr th {\n",
       "        vertical-align: top;\n",
       "    }\n",
       "\n",
       "    .dataframe thead th {\n",
       "        text-align: right;\n",
       "    }\n",
       "</style>\n",
       "<table border=\"1\" class=\"dataframe\">\n",
       "  <thead>\n",
       "    <tr style=\"text-align: right;\">\n",
       "      <th></th>\n",
       "      <th>time</th>\n",
       "      <th>open</th>\n",
       "      <th>high</th>\n",
       "      <th>low</th>\n",
       "      <th>close</th>\n",
       "      <th>volume</th>\n",
       "    </tr>\n",
       "  </thead>\n",
       "  <tbody>\n",
       "    <tr>\n",
       "      <th>0</th>\n",
       "      <td>04.05.2003 21:00:00.000</td>\n",
       "      <td>1.12354</td>\n",
       "      <td>1.12354</td>\n",
       "      <td>1.12166</td>\n",
       "      <td>1.12274</td>\n",
       "      <td>95533.0976</td>\n",
       "    </tr>\n",
       "    <tr>\n",
       "      <th>1</th>\n",
       "      <td>05.05.2003 01:00:00.000</td>\n",
       "      <td>1.12242</td>\n",
       "      <td>1.12276</td>\n",
       "      <td>1.12067</td>\n",
       "      <td>1.12126</td>\n",
       "      <td>93778.5996</td>\n",
       "    </tr>\n",
       "    <tr>\n",
       "      <th>2</th>\n",
       "      <td>05.05.2003 05:00:00.000</td>\n",
       "      <td>1.12139</td>\n",
       "      <td>1.12255</td>\n",
       "      <td>1.12030</td>\n",
       "      <td>1.12113</td>\n",
       "      <td>90924.6992</td>\n",
       "    </tr>\n",
       "    <tr>\n",
       "      <th>3</th>\n",
       "      <td>05.05.2003 09:00:00.000</td>\n",
       "      <td>1.12092</td>\n",
       "      <td>1.12331</td>\n",
       "      <td>1.12049</td>\n",
       "      <td>1.12174</td>\n",
       "      <td>91254.6992</td>\n",
       "    </tr>\n",
       "    <tr>\n",
       "      <th>4</th>\n",
       "      <td>05.05.2003 13:00:00.000</td>\n",
       "      <td>1.12194</td>\n",
       "      <td>1.12900</td>\n",
       "      <td>1.12130</td>\n",
       "      <td>1.12712</td>\n",
       "      <td>308003.4083</td>\n",
       "    </tr>\n",
       "    <tr>\n",
       "      <th>5</th>\n",
       "      <td>05.05.2003 17:00:00.000</td>\n",
       "      <td>1.12718</td>\n",
       "      <td>1.13019</td>\n",
       "      <td>1.12657</td>\n",
       "      <td>1.12804</td>\n",
       "      <td>373668.2930</td>\n",
       "    </tr>\n",
       "    <tr>\n",
       "      <th>6</th>\n",
       "      <td>05.05.2003 21:00:00.000</td>\n",
       "      <td>1.12798</td>\n",
       "      <td>1.13004</td>\n",
       "      <td>1.12772</td>\n",
       "      <td>1.12913</td>\n",
       "      <td>94283.7988</td>\n",
       "    </tr>\n",
       "    <tr>\n",
       "      <th>7</th>\n",
       "      <td>06.05.2003 01:00:00.000</td>\n",
       "      <td>1.12892</td>\n",
       "      <td>1.12967</td>\n",
       "      <td>1.12743</td>\n",
       "      <td>1.12855</td>\n",
       "      <td>95461.9980</td>\n",
       "    </tr>\n",
       "    <tr>\n",
       "      <th>8</th>\n",
       "      <td>06.05.2003 05:00:00.000</td>\n",
       "      <td>1.12856</td>\n",
       "      <td>1.13412</td>\n",
       "      <td>1.12738</td>\n",
       "      <td>1.13381</td>\n",
       "      <td>92809.0996</td>\n",
       "    </tr>\n",
       "    <tr>\n",
       "      <th>9</th>\n",
       "      <td>06.05.2003 09:00:00.000</td>\n",
       "      <td>1.13383</td>\n",
       "      <td>1.13662</td>\n",
       "      <td>1.13188</td>\n",
       "      <td>1.13456</td>\n",
       "      <td>90255.7988</td>\n",
       "    </tr>\n",
       "  </tbody>\n",
       "</table>\n",
       "</div>"
      ],
      "text/plain": [
       "                      time     open     high      low    close       volume\n",
       "0  04.05.2003 21:00:00.000  1.12354  1.12354  1.12166  1.12274   95533.0976\n",
       "1  05.05.2003 01:00:00.000  1.12242  1.12276  1.12067  1.12126   93778.5996\n",
       "2  05.05.2003 05:00:00.000  1.12139  1.12255  1.12030  1.12113   90924.6992\n",
       "3  05.05.2003 09:00:00.000  1.12092  1.12331  1.12049  1.12174   91254.6992\n",
       "4  05.05.2003 13:00:00.000  1.12194  1.12900  1.12130  1.12712  308003.4083\n",
       "5  05.05.2003 17:00:00.000  1.12718  1.13019  1.12657  1.12804  373668.2930\n",
       "6  05.05.2003 21:00:00.000  1.12798  1.13004  1.12772  1.12913   94283.7988\n",
       "7  06.05.2003 01:00:00.000  1.12892  1.12967  1.12743  1.12855   95461.9980\n",
       "8  06.05.2003 05:00:00.000  1.12856  1.13412  1.12738  1.13381   92809.0996\n",
       "9  06.05.2003 09:00:00.000  1.13383  1.13662  1.13188  1.13456   90255.7988"
      ]
     },
     "execution_count": 68,
     "metadata": {},
     "output_type": "execute_result"
    }
   ],
   "source": [
    "import pandas as pd\n",
    "import pandas._libs.testing as _testing\n",
    "df = pd.read_csv(\"EURUSD_Candlestick_4_Hour_ASK_05.05.2003-16.10.2022.csv\")\n",
    "df.columns=['time', 'open', 'high', 'low', 'close', 'volume']\n",
    "#Check if NA values are in data\n",
    "df=df[df['volume']!=0]\n",
    "df.reset_index(drop=True, inplace=True)\n",
    "df.isna().sum()\n",
    "df.head(10)"
   ]
  },
  {
   "cell_type": "code",
   "execution_count": 69,
   "metadata": {},
   "outputs": [],
   "source": [
    "def pivotid(df1, l, n1, n2): #n1 n2 before and after candle l\n",
    "    if l-n1 < 0 or l+n2 >= len(df1):\n",
    "        return 0\n",
    "    \n",
    "    pividlow=1\n",
    "    pividhigh=1\n",
    "    for i in range(l-n1, l+n2+1):\n",
    "        if(df1.low[l]>df1.low[i]):\n",
    "            pividlow=0\n",
    "        if(df1.high[l]<df1.high[i]):\n",
    "            pividhigh=0\n",
    "    if pividlow and pividhigh:\n",
    "        return 3\n",
    "    elif pividlow:\n",
    "        return 1\n",
    "    elif pividhigh:\n",
    "        return 2\n",
    "    else:\n",
    "        return 0\n",
    "    \n",
    "df['pivot'] = df.apply(lambda x: pivotid(df, x.name,15,15), axis=1)\n",
    "df['shortpivot'] = df.apply(lambda x: pivotid(df, x.name,5,5), axis=1)"
   ]
  },
  {
   "cell_type": "code",
   "execution_count": 70,
   "metadata": {},
   "outputs": [],
   "source": [
    "import numpy as np\n",
    "def pointpos(x):\n",
    "    if x['pivot']==1:\n",
    "        return x['low']-1e-3\n",
    "    elif x['pivot']==2:\n",
    "        return x['high']+1e-3\n",
    "    else:\n",
    "        return np.nan\n",
    "\n",
    "def shortpointpos(x):\n",
    "    if x['shortpivot']==1:\n",
    "        return x['low']-2e-3\n",
    "    elif x['shortpivot']==2:\n",
    "        return x['high']+2e-3\n",
    "    else:\n",
    "        return np.nan\n",
    "    \n",
    "df['pointpos'] = df.apply(lambda row: pointpos(row), axis=1)\n",
    "df['shortpointpos'] = df.apply(lambda row: shortpointpos(row), axis=1)"
   ]
  },
  {
   "cell_type": "code",
   "execution_count": 71,
   "metadata": {
    "scrolled": true
   },
   "outputs": [
    {
     "data": {
      "application/vnd.plotly.v1+json": {
       "config": {
        "plotlyServerURL": "https://plot.ly"
       },
       "data": [
        {
         "close": [
          1.5592,
          1.55892,
          1.56598,
          1.56831,
          1.56533,
          1.56608,
          1.57138,
          1.57036,
          1.57084,
          1.57362,
          1.57015,
          1.56677,
          1.5691,
          1.5694,
          1.56934,
          1.57105,
          1.57737,
          1.57373,
          1.57533,
          1.56978,
          1.57034,
          1.5712,
          1.57035,
          1.57028,
          1.57215,
          1.57406,
          1.5851,
          1.58311,
          1.58417,
          1.58451,
          1.5872,
          1.58418,
          1.57474,
          1.57415,
          1.57601,
          1.57636,
          1.5834,
          1.58245,
          1.57999,
          1.58101,
          1.56852,
          1.56982,
          1.57782,
          1.58568,
          1.5817,
          1.58327,
          1.5826,
          1.58216,
          1.5866,
          1.58187,
          1.57964,
          1.579,
          1.57928,
          1.57981,
          1.58582,
          1.59562,
          1.59675,
          1.59474,
          1.59186,
          1.59274
         ],
         "high": [
          1.56576,
          1.56072,
          1.56854,
          1.56868,
          1.56855,
          1.56825,
          1.57245,
          1.57742,
          1.57546,
          1.57396,
          1.57394,
          1.57084,
          1.57036,
          1.57297,
          1.57278,
          1.57205,
          1.57897,
          1.57999,
          1.57775,
          1.57767,
          1.57282,
          1.57331,
          1.57274,
          1.57167,
          1.57429,
          1.57477,
          1.58532,
          1.58651,
          1.58524,
          1.58582,
          1.58826,
          1.59149,
          1.58672,
          1.5759,
          1.57679,
          1.57793,
          1.58515,
          1.58574,
          1.58449,
          1.58394,
          1.57844,
          1.57303,
          1.58033,
          1.58871,
          1.58614,
          1.5835,
          1.58498,
          1.58348,
          1.58767,
          1.58648,
          1.58192,
          1.57983,
          1.58044,
          1.58146,
          1.5863,
          1.59684,
          1.59796,
          1.59789,
          1.59611,
          1.59571
         ],
         "low": [
          1.55852,
          1.55082,
          1.55694,
          1.56551,
          1.56478,
          1.56375,
          1.56509,
          1.56811,
          1.56904,
          1.57013,
          1.56971,
          1.56486,
          1.56257,
          1.56813,
          1.56901,
          1.56911,
          1.56914,
          1.5728,
          1.57213,
          1.56723,
          1.56805,
          1.56936,
          1.56817,
          1.56862,
          1.56974,
          1.57052,
          1.57366,
          1.58122,
          1.58114,
          1.58221,
          1.58093,
          1.58193,
          1.57228,
          1.57259,
          1.57364,
          1.57499,
          1.57565,
          1.57905,
          1.57844,
          1.57898,
          1.56704,
          1.56837,
          1.57019,
          1.5769,
          1.5813,
          1.57938,
          1.58139,
          1.58089,
          1.58077,
          1.57838,
          1.57771,
          1.57496,
          1.57578,
          1.57761,
          1.57887,
          1.58571,
          1.59289,
          1.59389,
          1.59096,
          1.59165
         ],
         "open": [
          1.56382,
          1.5592,
          1.55927,
          1.56612,
          1.56852,
          1.56515,
          1.566,
          1.57159,
          1.57061,
          1.57092,
          1.57312,
          1.57019,
          1.56661,
          1.56892,
          1.56938,
          1.56935,
          1.57097,
          1.57716,
          1.57372,
          1.57532,
          1.56967,
          1.5706,
          1.5711,
          1.57042,
          1.56986,
          1.5722,
          1.57415,
          1.58491,
          1.58308,
          1.58392,
          1.5842,
          1.58713,
          1.58436,
          1.57474,
          1.57443,
          1.57602,
          1.57647,
          1.58332,
          1.58205,
          1.57996,
          1.57844,
          1.56853,
          1.57019,
          1.57782,
          1.58565,
          1.58152,
          1.58308,
          1.58263,
          1.58225,
          1.58648,
          1.58162,
          1.57954,
          1.57888,
          1.5796,
          1.57954,
          1.58578,
          1.59573,
          1.5965,
          1.5947,
          1.59193
         ],
         "type": "candlestick",
         "x": [
          7700,
          7701,
          7702,
          7703,
          7704,
          7705,
          7706,
          7707,
          7708,
          7709,
          7710,
          7711,
          7712,
          7713,
          7714,
          7715,
          7716,
          7717,
          7718,
          7719,
          7720,
          7721,
          7722,
          7723,
          7724,
          7725,
          7726,
          7727,
          7728,
          7729,
          7730,
          7731,
          7732,
          7733,
          7734,
          7735,
          7736,
          7737,
          7738,
          7739,
          7740,
          7741,
          7742,
          7743,
          7744,
          7745,
          7746,
          7747,
          7748,
          7749,
          7750,
          7751,
          7752,
          7753,
          7754,
          7755,
          7756,
          7757,
          7758,
          7759
         ]
        },
        {
         "marker": {
          "color": "MediumPurple",
          "size": 5
         },
         "mode": "markers",
         "name": "pivot",
         "type": "scatter",
         "x": [
          7700,
          7701,
          7702,
          7703,
          7704,
          7705,
          7706,
          7707,
          7708,
          7709,
          7710,
          7711,
          7712,
          7713,
          7714,
          7715,
          7716,
          7717,
          7718,
          7719,
          7720,
          7721,
          7722,
          7723,
          7724,
          7725,
          7726,
          7727,
          7728,
          7729,
          7730,
          7731,
          7732,
          7733,
          7734,
          7735,
          7736,
          7737,
          7738,
          7739,
          7740,
          7741,
          7742,
          7743,
          7744,
          7745,
          7746,
          7747,
          7748,
          7749,
          7750,
          7751,
          7752,
          7753,
          7754,
          7755,
          7756,
          7757,
          7758,
          7759
         ],
         "y": [
          null,
          1.5498200000000002,
          null,
          null,
          null,
          null,
          null,
          null,
          null,
          null,
          null,
          null,
          null,
          null,
          null,
          null,
          null,
          null,
          null,
          null,
          null,
          null,
          null,
          null,
          null,
          null,
          null,
          null,
          null,
          null,
          null,
          1.59249,
          null,
          null,
          null,
          null,
          null,
          null,
          null,
          null,
          1.56604,
          null,
          null,
          null,
          null,
          null,
          null,
          null,
          null,
          null,
          null,
          null,
          null,
          null,
          null,
          null,
          null,
          null,
          null,
          null
         ]
        },
        {
         "marker": {
          "color": "red",
          "size": 5
         },
         "mode": "markers",
         "name": "shortpivot",
         "type": "scatter",
         "x": [
          7700,
          7701,
          7702,
          7703,
          7704,
          7705,
          7706,
          7707,
          7708,
          7709,
          7710,
          7711,
          7712,
          7713,
          7714,
          7715,
          7716,
          7717,
          7718,
          7719,
          7720,
          7721,
          7722,
          7723,
          7724,
          7725,
          7726,
          7727,
          7728,
          7729,
          7730,
          7731,
          7732,
          7733,
          7734,
          7735,
          7736,
          7737,
          7738,
          7739,
          7740,
          7741,
          7742,
          7743,
          7744,
          7745,
          7746,
          7747,
          7748,
          7749,
          7750,
          7751,
          7752,
          7753,
          7754,
          7755,
          7756,
          7757,
          7758,
          7759
         ],
         "y": [
          null,
          1.54882,
          null,
          null,
          null,
          null,
          null,
          1.57942,
          null,
          null,
          null,
          null,
          1.56057,
          null,
          null,
          null,
          null,
          1.58199,
          null,
          1.56523,
          null,
          null,
          null,
          null,
          null,
          null,
          null,
          null,
          null,
          null,
          null,
          1.59349,
          1.57028,
          null,
          null,
          null,
          null,
          null,
          null,
          null,
          1.56504,
          null,
          null,
          1.59071,
          null,
          null,
          null,
          null,
          null,
          null,
          null,
          1.57296,
          null,
          null,
          null,
          null,
          null,
          null,
          null,
          null
         ]
        }
       ],
       "layout": {
        "template": {
         "data": {
          "bar": [
           {
            "error_x": {
             "color": "#2a3f5f"
            },
            "error_y": {
             "color": "#2a3f5f"
            },
            "marker": {
             "line": {
              "color": "#E5ECF6",
              "width": 0.5
             },
             "pattern": {
              "fillmode": "overlay",
              "size": 10,
              "solidity": 0.2
             }
            },
            "type": "bar"
           }
          ],
          "barpolar": [
           {
            "marker": {
             "line": {
              "color": "#E5ECF6",
              "width": 0.5
             },
             "pattern": {
              "fillmode": "overlay",
              "size": 10,
              "solidity": 0.2
             }
            },
            "type": "barpolar"
           }
          ],
          "carpet": [
           {
            "aaxis": {
             "endlinecolor": "#2a3f5f",
             "gridcolor": "white",
             "linecolor": "white",
             "minorgridcolor": "white",
             "startlinecolor": "#2a3f5f"
            },
            "baxis": {
             "endlinecolor": "#2a3f5f",
             "gridcolor": "white",
             "linecolor": "white",
             "minorgridcolor": "white",
             "startlinecolor": "#2a3f5f"
            },
            "type": "carpet"
           }
          ],
          "choropleth": [
           {
            "colorbar": {
             "outlinewidth": 0,
             "ticks": ""
            },
            "type": "choropleth"
           }
          ],
          "contour": [
           {
            "colorbar": {
             "outlinewidth": 0,
             "ticks": ""
            },
            "colorscale": [
             [
              0,
              "#0d0887"
             ],
             [
              0.1111111111111111,
              "#46039f"
             ],
             [
              0.2222222222222222,
              "#7201a8"
             ],
             [
              0.3333333333333333,
              "#9c179e"
             ],
             [
              0.4444444444444444,
              "#bd3786"
             ],
             [
              0.5555555555555556,
              "#d8576b"
             ],
             [
              0.6666666666666666,
              "#ed7953"
             ],
             [
              0.7777777777777778,
              "#fb9f3a"
             ],
             [
              0.8888888888888888,
              "#fdca26"
             ],
             [
              1,
              "#f0f921"
             ]
            ],
            "type": "contour"
           }
          ],
          "contourcarpet": [
           {
            "colorbar": {
             "outlinewidth": 0,
             "ticks": ""
            },
            "type": "contourcarpet"
           }
          ],
          "heatmap": [
           {
            "colorbar": {
             "outlinewidth": 0,
             "ticks": ""
            },
            "colorscale": [
             [
              0,
              "#0d0887"
             ],
             [
              0.1111111111111111,
              "#46039f"
             ],
             [
              0.2222222222222222,
              "#7201a8"
             ],
             [
              0.3333333333333333,
              "#9c179e"
             ],
             [
              0.4444444444444444,
              "#bd3786"
             ],
             [
              0.5555555555555556,
              "#d8576b"
             ],
             [
              0.6666666666666666,
              "#ed7953"
             ],
             [
              0.7777777777777778,
              "#fb9f3a"
             ],
             [
              0.8888888888888888,
              "#fdca26"
             ],
             [
              1,
              "#f0f921"
             ]
            ],
            "type": "heatmap"
           }
          ],
          "heatmapgl": [
           {
            "colorbar": {
             "outlinewidth": 0,
             "ticks": ""
            },
            "colorscale": [
             [
              0,
              "#0d0887"
             ],
             [
              0.1111111111111111,
              "#46039f"
             ],
             [
              0.2222222222222222,
              "#7201a8"
             ],
             [
              0.3333333333333333,
              "#9c179e"
             ],
             [
              0.4444444444444444,
              "#bd3786"
             ],
             [
              0.5555555555555556,
              "#d8576b"
             ],
             [
              0.6666666666666666,
              "#ed7953"
             ],
             [
              0.7777777777777778,
              "#fb9f3a"
             ],
             [
              0.8888888888888888,
              "#fdca26"
             ],
             [
              1,
              "#f0f921"
             ]
            ],
            "type": "heatmapgl"
           }
          ],
          "histogram": [
           {
            "marker": {
             "pattern": {
              "fillmode": "overlay",
              "size": 10,
              "solidity": 0.2
             }
            },
            "type": "histogram"
           }
          ],
          "histogram2d": [
           {
            "colorbar": {
             "outlinewidth": 0,
             "ticks": ""
            },
            "colorscale": [
             [
              0,
              "#0d0887"
             ],
             [
              0.1111111111111111,
              "#46039f"
             ],
             [
              0.2222222222222222,
              "#7201a8"
             ],
             [
              0.3333333333333333,
              "#9c179e"
             ],
             [
              0.4444444444444444,
              "#bd3786"
             ],
             [
              0.5555555555555556,
              "#d8576b"
             ],
             [
              0.6666666666666666,
              "#ed7953"
             ],
             [
              0.7777777777777778,
              "#fb9f3a"
             ],
             [
              0.8888888888888888,
              "#fdca26"
             ],
             [
              1,
              "#f0f921"
             ]
            ],
            "type": "histogram2d"
           }
          ],
          "histogram2dcontour": [
           {
            "colorbar": {
             "outlinewidth": 0,
             "ticks": ""
            },
            "colorscale": [
             [
              0,
              "#0d0887"
             ],
             [
              0.1111111111111111,
              "#46039f"
             ],
             [
              0.2222222222222222,
              "#7201a8"
             ],
             [
              0.3333333333333333,
              "#9c179e"
             ],
             [
              0.4444444444444444,
              "#bd3786"
             ],
             [
              0.5555555555555556,
              "#d8576b"
             ],
             [
              0.6666666666666666,
              "#ed7953"
             ],
             [
              0.7777777777777778,
              "#fb9f3a"
             ],
             [
              0.8888888888888888,
              "#fdca26"
             ],
             [
              1,
              "#f0f921"
             ]
            ],
            "type": "histogram2dcontour"
           }
          ],
          "mesh3d": [
           {
            "colorbar": {
             "outlinewidth": 0,
             "ticks": ""
            },
            "type": "mesh3d"
           }
          ],
          "parcoords": [
           {
            "line": {
             "colorbar": {
              "outlinewidth": 0,
              "ticks": ""
             }
            },
            "type": "parcoords"
           }
          ],
          "pie": [
           {
            "automargin": true,
            "type": "pie"
           }
          ],
          "scatter": [
           {
            "fillpattern": {
             "fillmode": "overlay",
             "size": 10,
             "solidity": 0.2
            },
            "type": "scatter"
           }
          ],
          "scatter3d": [
           {
            "line": {
             "colorbar": {
              "outlinewidth": 0,
              "ticks": ""
             }
            },
            "marker": {
             "colorbar": {
              "outlinewidth": 0,
              "ticks": ""
             }
            },
            "type": "scatter3d"
           }
          ],
          "scattercarpet": [
           {
            "marker": {
             "colorbar": {
              "outlinewidth": 0,
              "ticks": ""
             }
            },
            "type": "scattercarpet"
           }
          ],
          "scattergeo": [
           {
            "marker": {
             "colorbar": {
              "outlinewidth": 0,
              "ticks": ""
             }
            },
            "type": "scattergeo"
           }
          ],
          "scattergl": [
           {
            "marker": {
             "colorbar": {
              "outlinewidth": 0,
              "ticks": ""
             }
            },
            "type": "scattergl"
           }
          ],
          "scattermapbox": [
           {
            "marker": {
             "colorbar": {
              "outlinewidth": 0,
              "ticks": ""
             }
            },
            "type": "scattermapbox"
           }
          ],
          "scatterpolar": [
           {
            "marker": {
             "colorbar": {
              "outlinewidth": 0,
              "ticks": ""
             }
            },
            "type": "scatterpolar"
           }
          ],
          "scatterpolargl": [
           {
            "marker": {
             "colorbar": {
              "outlinewidth": 0,
              "ticks": ""
             }
            },
            "type": "scatterpolargl"
           }
          ],
          "scatterternary": [
           {
            "marker": {
             "colorbar": {
              "outlinewidth": 0,
              "ticks": ""
             }
            },
            "type": "scatterternary"
           }
          ],
          "surface": [
           {
            "colorbar": {
             "outlinewidth": 0,
             "ticks": ""
            },
            "colorscale": [
             [
              0,
              "#0d0887"
             ],
             [
              0.1111111111111111,
              "#46039f"
             ],
             [
              0.2222222222222222,
              "#7201a8"
             ],
             [
              0.3333333333333333,
              "#9c179e"
             ],
             [
              0.4444444444444444,
              "#bd3786"
             ],
             [
              0.5555555555555556,
              "#d8576b"
             ],
             [
              0.6666666666666666,
              "#ed7953"
             ],
             [
              0.7777777777777778,
              "#fb9f3a"
             ],
             [
              0.8888888888888888,
              "#fdca26"
             ],
             [
              1,
              "#f0f921"
             ]
            ],
            "type": "surface"
           }
          ],
          "table": [
           {
            "cells": {
             "fill": {
              "color": "#EBF0F8"
             },
             "line": {
              "color": "white"
             }
            },
            "header": {
             "fill": {
              "color": "#C8D4E3"
             },
             "line": {
              "color": "white"
             }
            },
            "type": "table"
           }
          ]
         },
         "layout": {
          "annotationdefaults": {
           "arrowcolor": "#2a3f5f",
           "arrowhead": 0,
           "arrowwidth": 1
          },
          "autotypenumbers": "strict",
          "coloraxis": {
           "colorbar": {
            "outlinewidth": 0,
            "ticks": ""
           }
          },
          "colorscale": {
           "diverging": [
            [
             0,
             "#8e0152"
            ],
            [
             0.1,
             "#c51b7d"
            ],
            [
             0.2,
             "#de77ae"
            ],
            [
             0.3,
             "#f1b6da"
            ],
            [
             0.4,
             "#fde0ef"
            ],
            [
             0.5,
             "#f7f7f7"
            ],
            [
             0.6,
             "#e6f5d0"
            ],
            [
             0.7,
             "#b8e186"
            ],
            [
             0.8,
             "#7fbc41"
            ],
            [
             0.9,
             "#4d9221"
            ],
            [
             1,
             "#276419"
            ]
           ],
           "sequential": [
            [
             0,
             "#0d0887"
            ],
            [
             0.1111111111111111,
             "#46039f"
            ],
            [
             0.2222222222222222,
             "#7201a8"
            ],
            [
             0.3333333333333333,
             "#9c179e"
            ],
            [
             0.4444444444444444,
             "#bd3786"
            ],
            [
             0.5555555555555556,
             "#d8576b"
            ],
            [
             0.6666666666666666,
             "#ed7953"
            ],
            [
             0.7777777777777778,
             "#fb9f3a"
            ],
            [
             0.8888888888888888,
             "#fdca26"
            ],
            [
             1,
             "#f0f921"
            ]
           ],
           "sequentialminus": [
            [
             0,
             "#0d0887"
            ],
            [
             0.1111111111111111,
             "#46039f"
            ],
            [
             0.2222222222222222,
             "#7201a8"
            ],
            [
             0.3333333333333333,
             "#9c179e"
            ],
            [
             0.4444444444444444,
             "#bd3786"
            ],
            [
             0.5555555555555556,
             "#d8576b"
            ],
            [
             0.6666666666666666,
             "#ed7953"
            ],
            [
             0.7777777777777778,
             "#fb9f3a"
            ],
            [
             0.8888888888888888,
             "#fdca26"
            ],
            [
             1,
             "#f0f921"
            ]
           ]
          },
          "colorway": [
           "#636efa",
           "#EF553B",
           "#00cc96",
           "#ab63fa",
           "#FFA15A",
           "#19d3f3",
           "#FF6692",
           "#B6E880",
           "#FF97FF",
           "#FECB52"
          ],
          "font": {
           "color": "#2a3f5f"
          },
          "geo": {
           "bgcolor": "white",
           "lakecolor": "white",
           "landcolor": "#E5ECF6",
           "showlakes": true,
           "showland": true,
           "subunitcolor": "white"
          },
          "hoverlabel": {
           "align": "left"
          },
          "hovermode": "closest",
          "mapbox": {
           "style": "light"
          },
          "paper_bgcolor": "white",
          "plot_bgcolor": "#E5ECF6",
          "polar": {
           "angularaxis": {
            "gridcolor": "white",
            "linecolor": "white",
            "ticks": ""
           },
           "bgcolor": "#E5ECF6",
           "radialaxis": {
            "gridcolor": "white",
            "linecolor": "white",
            "ticks": ""
           }
          },
          "scene": {
           "xaxis": {
            "backgroundcolor": "#E5ECF6",
            "gridcolor": "white",
            "gridwidth": 2,
            "linecolor": "white",
            "showbackground": true,
            "ticks": "",
            "zerolinecolor": "white"
           },
           "yaxis": {
            "backgroundcolor": "#E5ECF6",
            "gridcolor": "white",
            "gridwidth": 2,
            "linecolor": "white",
            "showbackground": true,
            "ticks": "",
            "zerolinecolor": "white"
           },
           "zaxis": {
            "backgroundcolor": "#E5ECF6",
            "gridcolor": "white",
            "gridwidth": 2,
            "linecolor": "white",
            "showbackground": true,
            "ticks": "",
            "zerolinecolor": "white"
           }
          },
          "shapedefaults": {
           "line": {
            "color": "#2a3f5f"
           }
          },
          "ternary": {
           "aaxis": {
            "gridcolor": "white",
            "linecolor": "white",
            "ticks": ""
           },
           "baxis": {
            "gridcolor": "white",
            "linecolor": "white",
            "ticks": ""
           },
           "bgcolor": "#E5ECF6",
           "caxis": {
            "gridcolor": "white",
            "linecolor": "white",
            "ticks": ""
           }
          },
          "title": {
           "x": 0.05
          },
          "xaxis": {
           "automargin": true,
           "gridcolor": "white",
           "linecolor": "white",
           "ticks": "",
           "title": {
            "standoff": 15
           },
           "zerolinecolor": "white",
           "zerolinewidth": 2
          },
          "yaxis": {
           "automargin": true,
           "gridcolor": "white",
           "linecolor": "white",
           "ticks": "",
           "title": {
            "standoff": 15
           },
           "zerolinecolor": "white",
           "zerolinewidth": 2
          }
         }
        },
        "xaxis": {
         "rangeslider": {
          "visible": false
         }
        }
       }
      },
      "text/html": [
       "<div>                            <div id=\"8458f90d-af60-4c9f-bb7a-7ae6903f2b2a\" class=\"plotly-graph-div\" style=\"height:525px; width:100%;\"></div>            <script type=\"text/javascript\">                require([\"plotly\"], function(Plotly) {                    window.PLOTLYENV=window.PLOTLYENV || {};                                    if (document.getElementById(\"8458f90d-af60-4c9f-bb7a-7ae6903f2b2a\")) {                    Plotly.newPlot(                        \"8458f90d-af60-4c9f-bb7a-7ae6903f2b2a\",                        [{\"close\":[1.5592,1.55892,1.56598,1.56831,1.56533,1.56608,1.57138,1.57036,1.57084,1.57362,1.57015,1.56677,1.5691,1.5694,1.56934,1.57105,1.57737,1.57373,1.57533,1.56978,1.57034,1.5712,1.57035,1.57028,1.57215,1.57406,1.5851,1.58311,1.58417,1.58451,1.5872,1.58418,1.57474,1.57415,1.57601,1.57636,1.5834,1.58245,1.57999,1.58101,1.56852,1.56982,1.57782,1.58568,1.5817,1.58327,1.5826,1.58216,1.5866,1.58187,1.57964,1.579,1.57928,1.57981,1.58582,1.59562,1.59675,1.59474,1.59186,1.59274],\"high\":[1.56576,1.56072,1.56854,1.56868,1.56855,1.56825,1.57245,1.57742,1.57546,1.57396,1.57394,1.57084,1.57036,1.57297,1.57278,1.57205,1.57897,1.57999,1.57775,1.57767,1.57282,1.57331,1.57274,1.57167,1.57429,1.57477,1.58532,1.58651,1.58524,1.58582,1.58826,1.59149,1.58672,1.5759,1.57679,1.57793,1.58515,1.58574,1.58449,1.58394,1.57844,1.57303,1.58033,1.58871,1.58614,1.5835,1.58498,1.58348,1.58767,1.58648,1.58192,1.57983,1.58044,1.58146,1.5863,1.59684,1.59796,1.59789,1.59611,1.59571],\"low\":[1.55852,1.55082,1.55694,1.56551,1.56478,1.56375,1.56509,1.56811,1.56904,1.57013,1.56971,1.56486,1.56257,1.56813,1.56901,1.56911,1.56914,1.5728,1.57213,1.56723,1.56805,1.56936,1.56817,1.56862,1.56974,1.57052,1.57366,1.58122,1.58114,1.58221,1.58093,1.58193,1.57228,1.57259,1.57364,1.57499,1.57565,1.57905,1.57844,1.57898,1.56704,1.56837,1.57019,1.5769,1.5813,1.57938,1.58139,1.58089,1.58077,1.57838,1.57771,1.57496,1.57578,1.57761,1.57887,1.58571,1.59289,1.59389,1.59096,1.59165],\"open\":[1.56382,1.5592,1.55927,1.56612,1.56852,1.56515,1.566,1.57159,1.57061,1.57092,1.57312,1.57019,1.56661,1.56892,1.56938,1.56935,1.57097,1.57716,1.57372,1.57532,1.56967,1.5706,1.5711,1.57042,1.56986,1.5722,1.57415,1.58491,1.58308,1.58392,1.5842,1.58713,1.58436,1.57474,1.57443,1.57602,1.57647,1.58332,1.58205,1.57996,1.57844,1.56853,1.57019,1.57782,1.58565,1.58152,1.58308,1.58263,1.58225,1.58648,1.58162,1.57954,1.57888,1.5796,1.57954,1.58578,1.59573,1.5965,1.5947,1.59193],\"x\":[7700,7701,7702,7703,7704,7705,7706,7707,7708,7709,7710,7711,7712,7713,7714,7715,7716,7717,7718,7719,7720,7721,7722,7723,7724,7725,7726,7727,7728,7729,7730,7731,7732,7733,7734,7735,7736,7737,7738,7739,7740,7741,7742,7743,7744,7745,7746,7747,7748,7749,7750,7751,7752,7753,7754,7755,7756,7757,7758,7759],\"type\":\"candlestick\"},{\"marker\":{\"color\":\"MediumPurple\",\"size\":5},\"mode\":\"markers\",\"name\":\"pivot\",\"x\":[7700,7701,7702,7703,7704,7705,7706,7707,7708,7709,7710,7711,7712,7713,7714,7715,7716,7717,7718,7719,7720,7721,7722,7723,7724,7725,7726,7727,7728,7729,7730,7731,7732,7733,7734,7735,7736,7737,7738,7739,7740,7741,7742,7743,7744,7745,7746,7747,7748,7749,7750,7751,7752,7753,7754,7755,7756,7757,7758,7759],\"y\":[null,1.5498200000000002,null,null,null,null,null,null,null,null,null,null,null,null,null,null,null,null,null,null,null,null,null,null,null,null,null,null,null,null,null,1.59249,null,null,null,null,null,null,null,null,1.56604,null,null,null,null,null,null,null,null,null,null,null,null,null,null,null,null,null,null,null],\"type\":\"scatter\"},{\"marker\":{\"color\":\"red\",\"size\":5},\"mode\":\"markers\",\"name\":\"shortpivot\",\"x\":[7700,7701,7702,7703,7704,7705,7706,7707,7708,7709,7710,7711,7712,7713,7714,7715,7716,7717,7718,7719,7720,7721,7722,7723,7724,7725,7726,7727,7728,7729,7730,7731,7732,7733,7734,7735,7736,7737,7738,7739,7740,7741,7742,7743,7744,7745,7746,7747,7748,7749,7750,7751,7752,7753,7754,7755,7756,7757,7758,7759],\"y\":[null,1.54882,null,null,null,null,null,1.57942,null,null,null,null,1.56057,null,null,null,null,1.58199,null,1.56523,null,null,null,null,null,null,null,null,null,null,null,1.59349,1.57028,null,null,null,null,null,null,null,1.56504,null,null,1.59071,null,null,null,null,null,null,null,1.57296,null,null,null,null,null,null,null,null],\"type\":\"scatter\"}],                        {\"template\":{\"data\":{\"histogram2dcontour\":[{\"type\":\"histogram2dcontour\",\"colorbar\":{\"outlinewidth\":0,\"ticks\":\"\"},\"colorscale\":[[0.0,\"#0d0887\"],[0.1111111111111111,\"#46039f\"],[0.2222222222222222,\"#7201a8\"],[0.3333333333333333,\"#9c179e\"],[0.4444444444444444,\"#bd3786\"],[0.5555555555555556,\"#d8576b\"],[0.6666666666666666,\"#ed7953\"],[0.7777777777777778,\"#fb9f3a\"],[0.8888888888888888,\"#fdca26\"],[1.0,\"#f0f921\"]]}],\"choropleth\":[{\"type\":\"choropleth\",\"colorbar\":{\"outlinewidth\":0,\"ticks\":\"\"}}],\"histogram2d\":[{\"type\":\"histogram2d\",\"colorbar\":{\"outlinewidth\":0,\"ticks\":\"\"},\"colorscale\":[[0.0,\"#0d0887\"],[0.1111111111111111,\"#46039f\"],[0.2222222222222222,\"#7201a8\"],[0.3333333333333333,\"#9c179e\"],[0.4444444444444444,\"#bd3786\"],[0.5555555555555556,\"#d8576b\"],[0.6666666666666666,\"#ed7953\"],[0.7777777777777778,\"#fb9f3a\"],[0.8888888888888888,\"#fdca26\"],[1.0,\"#f0f921\"]]}],\"heatmap\":[{\"type\":\"heatmap\",\"colorbar\":{\"outlinewidth\":0,\"ticks\":\"\"},\"colorscale\":[[0.0,\"#0d0887\"],[0.1111111111111111,\"#46039f\"],[0.2222222222222222,\"#7201a8\"],[0.3333333333333333,\"#9c179e\"],[0.4444444444444444,\"#bd3786\"],[0.5555555555555556,\"#d8576b\"],[0.6666666666666666,\"#ed7953\"],[0.7777777777777778,\"#fb9f3a\"],[0.8888888888888888,\"#fdca26\"],[1.0,\"#f0f921\"]]}],\"heatmapgl\":[{\"type\":\"heatmapgl\",\"colorbar\":{\"outlinewidth\":0,\"ticks\":\"\"},\"colorscale\":[[0.0,\"#0d0887\"],[0.1111111111111111,\"#46039f\"],[0.2222222222222222,\"#7201a8\"],[0.3333333333333333,\"#9c179e\"],[0.4444444444444444,\"#bd3786\"],[0.5555555555555556,\"#d8576b\"],[0.6666666666666666,\"#ed7953\"],[0.7777777777777778,\"#fb9f3a\"],[0.8888888888888888,\"#fdca26\"],[1.0,\"#f0f921\"]]}],\"contourcarpet\":[{\"type\":\"contourcarpet\",\"colorbar\":{\"outlinewidth\":0,\"ticks\":\"\"}}],\"contour\":[{\"type\":\"contour\",\"colorbar\":{\"outlinewidth\":0,\"ticks\":\"\"},\"colorscale\":[[0.0,\"#0d0887\"],[0.1111111111111111,\"#46039f\"],[0.2222222222222222,\"#7201a8\"],[0.3333333333333333,\"#9c179e\"],[0.4444444444444444,\"#bd3786\"],[0.5555555555555556,\"#d8576b\"],[0.6666666666666666,\"#ed7953\"],[0.7777777777777778,\"#fb9f3a\"],[0.8888888888888888,\"#fdca26\"],[1.0,\"#f0f921\"]]}],\"surface\":[{\"type\":\"surface\",\"colorbar\":{\"outlinewidth\":0,\"ticks\":\"\"},\"colorscale\":[[0.0,\"#0d0887\"],[0.1111111111111111,\"#46039f\"],[0.2222222222222222,\"#7201a8\"],[0.3333333333333333,\"#9c179e\"],[0.4444444444444444,\"#bd3786\"],[0.5555555555555556,\"#d8576b\"],[0.6666666666666666,\"#ed7953\"],[0.7777777777777778,\"#fb9f3a\"],[0.8888888888888888,\"#fdca26\"],[1.0,\"#f0f921\"]]}],\"mesh3d\":[{\"type\":\"mesh3d\",\"colorbar\":{\"outlinewidth\":0,\"ticks\":\"\"}}],\"scatter\":[{\"fillpattern\":{\"fillmode\":\"overlay\",\"size\":10,\"solidity\":0.2},\"type\":\"scatter\"}],\"parcoords\":[{\"type\":\"parcoords\",\"line\":{\"colorbar\":{\"outlinewidth\":0,\"ticks\":\"\"}}}],\"scatterpolargl\":[{\"type\":\"scatterpolargl\",\"marker\":{\"colorbar\":{\"outlinewidth\":0,\"ticks\":\"\"}}}],\"bar\":[{\"error_x\":{\"color\":\"#2a3f5f\"},\"error_y\":{\"color\":\"#2a3f5f\"},\"marker\":{\"line\":{\"color\":\"#E5ECF6\",\"width\":0.5},\"pattern\":{\"fillmode\":\"overlay\",\"size\":10,\"solidity\":0.2}},\"type\":\"bar\"}],\"scattergeo\":[{\"type\":\"scattergeo\",\"marker\":{\"colorbar\":{\"outlinewidth\":0,\"ticks\":\"\"}}}],\"scatterpolar\":[{\"type\":\"scatterpolar\",\"marker\":{\"colorbar\":{\"outlinewidth\":0,\"ticks\":\"\"}}}],\"histogram\":[{\"marker\":{\"pattern\":{\"fillmode\":\"overlay\",\"size\":10,\"solidity\":0.2}},\"type\":\"histogram\"}],\"scattergl\":[{\"type\":\"scattergl\",\"marker\":{\"colorbar\":{\"outlinewidth\":0,\"ticks\":\"\"}}}],\"scatter3d\":[{\"type\":\"scatter3d\",\"line\":{\"colorbar\":{\"outlinewidth\":0,\"ticks\":\"\"}},\"marker\":{\"colorbar\":{\"outlinewidth\":0,\"ticks\":\"\"}}}],\"scattermapbox\":[{\"type\":\"scattermapbox\",\"marker\":{\"colorbar\":{\"outlinewidth\":0,\"ticks\":\"\"}}}],\"scatterternary\":[{\"type\":\"scatterternary\",\"marker\":{\"colorbar\":{\"outlinewidth\":0,\"ticks\":\"\"}}}],\"scattercarpet\":[{\"type\":\"scattercarpet\",\"marker\":{\"colorbar\":{\"outlinewidth\":0,\"ticks\":\"\"}}}],\"carpet\":[{\"aaxis\":{\"endlinecolor\":\"#2a3f5f\",\"gridcolor\":\"white\",\"linecolor\":\"white\",\"minorgridcolor\":\"white\",\"startlinecolor\":\"#2a3f5f\"},\"baxis\":{\"endlinecolor\":\"#2a3f5f\",\"gridcolor\":\"white\",\"linecolor\":\"white\",\"minorgridcolor\":\"white\",\"startlinecolor\":\"#2a3f5f\"},\"type\":\"carpet\"}],\"table\":[{\"cells\":{\"fill\":{\"color\":\"#EBF0F8\"},\"line\":{\"color\":\"white\"}},\"header\":{\"fill\":{\"color\":\"#C8D4E3\"},\"line\":{\"color\":\"white\"}},\"type\":\"table\"}],\"barpolar\":[{\"marker\":{\"line\":{\"color\":\"#E5ECF6\",\"width\":0.5},\"pattern\":{\"fillmode\":\"overlay\",\"size\":10,\"solidity\":0.2}},\"type\":\"barpolar\"}],\"pie\":[{\"automargin\":true,\"type\":\"pie\"}]},\"layout\":{\"autotypenumbers\":\"strict\",\"colorway\":[\"#636efa\",\"#EF553B\",\"#00cc96\",\"#ab63fa\",\"#FFA15A\",\"#19d3f3\",\"#FF6692\",\"#B6E880\",\"#FF97FF\",\"#FECB52\"],\"font\":{\"color\":\"#2a3f5f\"},\"hovermode\":\"closest\",\"hoverlabel\":{\"align\":\"left\"},\"paper_bgcolor\":\"white\",\"plot_bgcolor\":\"#E5ECF6\",\"polar\":{\"bgcolor\":\"#E5ECF6\",\"angularaxis\":{\"gridcolor\":\"white\",\"linecolor\":\"white\",\"ticks\":\"\"},\"radialaxis\":{\"gridcolor\":\"white\",\"linecolor\":\"white\",\"ticks\":\"\"}},\"ternary\":{\"bgcolor\":\"#E5ECF6\",\"aaxis\":{\"gridcolor\":\"white\",\"linecolor\":\"white\",\"ticks\":\"\"},\"baxis\":{\"gridcolor\":\"white\",\"linecolor\":\"white\",\"ticks\":\"\"},\"caxis\":{\"gridcolor\":\"white\",\"linecolor\":\"white\",\"ticks\":\"\"}},\"coloraxis\":{\"colorbar\":{\"outlinewidth\":0,\"ticks\":\"\"}},\"colorscale\":{\"sequential\":[[0.0,\"#0d0887\"],[0.1111111111111111,\"#46039f\"],[0.2222222222222222,\"#7201a8\"],[0.3333333333333333,\"#9c179e\"],[0.4444444444444444,\"#bd3786\"],[0.5555555555555556,\"#d8576b\"],[0.6666666666666666,\"#ed7953\"],[0.7777777777777778,\"#fb9f3a\"],[0.8888888888888888,\"#fdca26\"],[1.0,\"#f0f921\"]],\"sequentialminus\":[[0.0,\"#0d0887\"],[0.1111111111111111,\"#46039f\"],[0.2222222222222222,\"#7201a8\"],[0.3333333333333333,\"#9c179e\"],[0.4444444444444444,\"#bd3786\"],[0.5555555555555556,\"#d8576b\"],[0.6666666666666666,\"#ed7953\"],[0.7777777777777778,\"#fb9f3a\"],[0.8888888888888888,\"#fdca26\"],[1.0,\"#f0f921\"]],\"diverging\":[[0,\"#8e0152\"],[0.1,\"#c51b7d\"],[0.2,\"#de77ae\"],[0.3,\"#f1b6da\"],[0.4,\"#fde0ef\"],[0.5,\"#f7f7f7\"],[0.6,\"#e6f5d0\"],[0.7,\"#b8e186\"],[0.8,\"#7fbc41\"],[0.9,\"#4d9221\"],[1,\"#276419\"]]},\"xaxis\":{\"gridcolor\":\"white\",\"linecolor\":\"white\",\"ticks\":\"\",\"title\":{\"standoff\":15},\"zerolinecolor\":\"white\",\"automargin\":true,\"zerolinewidth\":2},\"yaxis\":{\"gridcolor\":\"white\",\"linecolor\":\"white\",\"ticks\":\"\",\"title\":{\"standoff\":15},\"zerolinecolor\":\"white\",\"automargin\":true,\"zerolinewidth\":2},\"scene\":{\"xaxis\":{\"backgroundcolor\":\"#E5ECF6\",\"gridcolor\":\"white\",\"linecolor\":\"white\",\"showbackground\":true,\"ticks\":\"\",\"zerolinecolor\":\"white\",\"gridwidth\":2},\"yaxis\":{\"backgroundcolor\":\"#E5ECF6\",\"gridcolor\":\"white\",\"linecolor\":\"white\",\"showbackground\":true,\"ticks\":\"\",\"zerolinecolor\":\"white\",\"gridwidth\":2},\"zaxis\":{\"backgroundcolor\":\"#E5ECF6\",\"gridcolor\":\"white\",\"linecolor\":\"white\",\"showbackground\":true,\"ticks\":\"\",\"zerolinecolor\":\"white\",\"gridwidth\":2}},\"shapedefaults\":{\"line\":{\"color\":\"#2a3f5f\"}},\"annotationdefaults\":{\"arrowcolor\":\"#2a3f5f\",\"arrowhead\":0,\"arrowwidth\":1},\"geo\":{\"bgcolor\":\"white\",\"landcolor\":\"#E5ECF6\",\"subunitcolor\":\"white\",\"showland\":true,\"showlakes\":true,\"lakecolor\":\"white\"},\"title\":{\"x\":0.05},\"mapbox\":{\"style\":\"light\"}}},\"xaxis\":{\"rangeslider\":{\"visible\":false}}},                        {\"responsive\": true}                    ).then(function(){\n",
       "                            \n",
       "var gd = document.getElementById('8458f90d-af60-4c9f-bb7a-7ae6903f2b2a');\n",
       "var x = new MutationObserver(function (mutations, observer) {{\n",
       "        var display = window.getComputedStyle(gd).display;\n",
       "        if (!display || display === 'none') {{\n",
       "            console.log([gd, 'removed!']);\n",
       "            Plotly.purge(gd);\n",
       "            observer.disconnect();\n",
       "        }}\n",
       "}});\n",
       "\n",
       "// Listen for the removal of the full notebook cells\n",
       "var notebookContainer = gd.closest('#notebook-container');\n",
       "if (notebookContainer) {{\n",
       "    x.observe(notebookContainer, {childList: true});\n",
       "}}\n",
       "\n",
       "// Listen for the clearing of the current output cell\n",
       "var outputEl = gd.closest('.output');\n",
       "if (outputEl) {{\n",
       "    x.observe(outputEl, {childList: true});\n",
       "}}\n",
       "\n",
       "                        })                };                });            </script>        </div>"
      ]
     },
     "metadata": {},
     "output_type": "display_data"
    }
   ],
   "source": [
    "import plotly.graph_objects as go\n",
    "from plotly.subplots import make_subplots\n",
    "from datetime import datetime\n",
    "dfpl = df[7700:7760]\n",
    "fig = go.Figure(data=[go.Candlestick(x=dfpl.index,\n",
    "                open=dfpl['open'],\n",
    "                high=dfpl['high'],\n",
    "                low=dfpl['low'],\n",
    "                close=dfpl['close'])])\n",
    "\n",
    "fig.add_scatter(x=dfpl.index, y=dfpl['pointpos'], mode=\"markers\",\n",
    "                marker=dict(size=5, color=\"MediumPurple\"),\n",
    "                name=\"pivot\")\n",
    "fig.add_scatter(x=dfpl.index, y=dfpl['shortpointpos'], mode=\"markers\",\n",
    "                marker=dict(size=5, color=\"red\"),\n",
    "                name=\"shortpivot\")\n",
    "fig.update_layout(xaxis_rangeslider_visible=False)\n",
    "fig.show()"
   ]
  },
  {
   "cell_type": "code",
   "execution_count": 72,
   "metadata": {},
   "outputs": [
    {
     "name": "stdout",
     "output_type": "stream",
     "text": [
      "1 2 1 1 2.9287833827896943e-05 7731\n"
     ]
    }
   ],
   "source": [
    "from scipy.stats import linregress\n",
    "backcandles= 14 #!!!should be less than pivot candles\n",
    "\n",
    "for candleid in range(0, len(df)-backcandles):\n",
    "    if df.iloc[candleid].pivot != 2 or df.iloc[candleid].shortpivot != 2:\n",
    "        continue\n",
    "    \n",
    "    maxim = np.array([])\n",
    "    minim = np.array([])\n",
    "    xxmin = np.array([])\n",
    "    xxmax = np.array([])\n",
    "    minbcount=0 #minimas before head\n",
    "    maxbcount=0 #maximas before head\n",
    "    minacount=0 #minimas after head\n",
    "    maxacount=0 #maximas after head\n",
    "    \n",
    "    for i in range(candleid-backcandles, candleid+backcandles):\n",
    "        if df.iloc[i].shortpivot == 1:\n",
    "            minim = np.append(minim, df.iloc[i].low)\n",
    "            xxmin = np.append(xxmin, i) #could be i instead df.iloc[i].name             \n",
    "            if i < candleid:\n",
    "                minbcount=+1\n",
    "            elif i>candleid:\n",
    "                minacount+=1\n",
    "        if df.iloc[i].shortpivot == 2:\n",
    "            maxim = np.append(maxim, df.iloc[i].high)\n",
    "            xxmax = np.append(xxmax, i) # df.iloc[i].name\n",
    "            if i < candleid:\n",
    "                maxbcount+=1\n",
    "            elif i>candleid:\n",
    "                maxacount+=1\n",
    "    \n",
    "    if minbcount<1 or minacount<1 or maxbcount<1 or maxacount<1:\n",
    "        continue\n",
    "\n",
    "    slmin, intercmin, rmin, pmin, semin = linregress(xxmin, minim)\n",
    "    headidx = np.argmax(maxim, axis=0)\n",
    "    if maxim[headidx]-maxim[headidx-1]>1.5e-3 and maxim[headidx]-maxim[headidx+1]>1.5e-3 and abs(slmin)<=1e-4 and xxmin[0]>xxmax[headidx-1] and xxmin[1]<xxmax[headidx+1]:# and (maxim[headidx]-maxim[headidx+1])>(maxim[headidx+1]-minim[headidx+1]) and (maxim[headidx]-maxim[headidx-1])>(maxim[headidx-1]-minim[headidx-1]) :\n",
    "        print(minbcount,minacount,maxbcount,maxacount, slmin, candleid)\n",
    "        #print(maxim)\n",
    "        #print(xxmax)\n",
    "        #print(minim)\n",
    "        #print(xxmin)\n",
    "        break\n",
    "        \n",
    "    if candleid % 1000 == 0:\n",
    "        print(candleid)"
   ]
  },
  {
   "cell_type": "code",
   "execution_count": 73,
   "metadata": {},
   "outputs": [],
   "source": [
    "############################################################"
   ]
  },
  {
   "cell_type": "code",
   "execution_count": 74,
   "metadata": {},
   "outputs": [],
   "source": [
    "import matplotlib.pyplot as plt\n",
    "import yfinance as yf\n",
    "import pandas_ta as ta\n",
    "\n",
    "df['RSI']=ta.rsi(df.close, length=15)\n",
    "df['EMAF']=ta.ema(df.close, length=20)\n",
    "df['EMAM']=ta.ema(df.close, length=100)\n",
    "df['EMAS']=ta.ema(df.close, length=150)\n",
    "\n",
    "df['TargetNextClose'] = df['close'].shift(-1)\n",
    "\n",
    "df.dropna(inplace=True)\n",
    "df.reset_index(inplace = True)\n",
    "df.drop(['volume', 'close', 'time', 'index', 'pivot', 'shortpivot', 'pointpos', 'shortpointpos'], axis=1, inplace=True)"
   ]
  },
  {
   "cell_type": "code",
   "execution_count": 75,
   "metadata": {},
   "outputs": [
    {
     "data": {
      "text/html": [
       "<div>\n",
       "<style scoped>\n",
       "    .dataframe tbody tr th:only-of-type {\n",
       "        vertical-align: middle;\n",
       "    }\n",
       "\n",
       "    .dataframe tbody tr th {\n",
       "        vertical-align: top;\n",
       "    }\n",
       "\n",
       "    .dataframe thead th {\n",
       "        text-align: right;\n",
       "    }\n",
       "</style>\n",
       "<table border=\"1\" class=\"dataframe\">\n",
       "  <thead>\n",
       "    <tr style=\"text-align: right;\">\n",
       "      <th></th>\n",
       "      <th>open</th>\n",
       "      <th>high</th>\n",
       "      <th>low</th>\n",
       "      <th>RSI</th>\n",
       "      <th>EMAF</th>\n",
       "      <th>EMAM</th>\n",
       "      <th>EMAS</th>\n",
       "      <th>TargetNextClose</th>\n",
       "    </tr>\n",
       "  </thead>\n",
       "  <tbody>\n",
       "    <tr>\n",
       "      <th>0</th>\n",
       "      <td>1.19243</td>\n",
       "      <td>1.19278</td>\n",
       "      <td>1.18619</td>\n",
       "      <td>62.179082</td>\n",
       "      <td>1.180532</td>\n",
       "      <td>1.172327</td>\n",
       "      <td>1.167391</td>\n",
       "      <td>1.18412</td>\n",
       "    </tr>\n",
       "    <tr>\n",
       "      <th>1</th>\n",
       "      <td>1.15919</td>\n",
       "      <td>1.16215</td>\n",
       "      <td>1.15173</td>\n",
       "      <td>42.464545</td>\n",
       "      <td>1.156623</td>\n",
       "      <td>1.166813</td>\n",
       "      <td>1.165763</td>\n",
       "      <td>1.15354</td>\n",
       "    </tr>\n",
       "    <tr>\n",
       "      <th>2</th>\n",
       "      <td>1.14504</td>\n",
       "      <td>1.14581</td>\n",
       "      <td>1.13974</td>\n",
       "      <td>38.824116</td>\n",
       "      <td>1.146391</td>\n",
       "      <td>1.160703</td>\n",
       "      <td>1.161693</td>\n",
       "      <td>1.14994</td>\n",
       "    </tr>\n",
       "    <tr>\n",
       "      <th>3</th>\n",
       "      <td>1.15423</td>\n",
       "      <td>1.16079</td>\n",
       "      <td>1.15261</td>\n",
       "      <td>62.214987</td>\n",
       "      <td>1.149903</td>\n",
       "      <td>1.159695</td>\n",
       "      <td>1.160915</td>\n",
       "      <td>1.15608</td>\n",
       "    </tr>\n",
       "    <tr>\n",
       "      <th>4</th>\n",
       "      <td>1.12636</td>\n",
       "      <td>1.13177</td>\n",
       "      <td>1.12587</td>\n",
       "      <td>33.774380</td>\n",
       "      <td>1.138308</td>\n",
       "      <td>1.152074</td>\n",
       "      <td>1.155086</td>\n",
       "      <td>1.13118</td>\n",
       "    </tr>\n",
       "    <tr>\n",
       "      <th>5</th>\n",
       "      <td>1.13855</td>\n",
       "      <td>1.13924</td>\n",
       "      <td>1.13700</td>\n",
       "      <td>52.604493</td>\n",
       "      <td>1.135984</td>\n",
       "      <td>1.148306</td>\n",
       "      <td>1.152023</td>\n",
       "      <td>1.13504</td>\n",
       "    </tr>\n",
       "    <tr>\n",
       "      <th>6</th>\n",
       "      <td>1.11307</td>\n",
       "      <td>1.11549</td>\n",
       "      <td>1.11123</td>\n",
       "      <td>32.035726</td>\n",
       "      <td>1.126018</td>\n",
       "      <td>1.141134</td>\n",
       "      <td>1.146101</td>\n",
       "      <td>1.11294</td>\n",
       "    </tr>\n",
       "    <tr>\n",
       "      <th>7</th>\n",
       "      <td>1.14835</td>\n",
       "      <td>1.15487</td>\n",
       "      <td>1.14439</td>\n",
       "      <td>66.927754</td>\n",
       "      <td>1.143609</td>\n",
       "      <td>1.137926</td>\n",
       "      <td>1.141009</td>\n",
       "      <td>1.15079</td>\n",
       "    </tr>\n",
       "    <tr>\n",
       "      <th>8</th>\n",
       "      <td>1.12297</td>\n",
       "      <td>1.12338</td>\n",
       "      <td>1.11348</td>\n",
       "      <td>18.241525</td>\n",
       "      <td>1.132956</td>\n",
       "      <td>1.138165</td>\n",
       "      <td>1.140390</td>\n",
       "      <td>1.11794</td>\n",
       "    </tr>\n",
       "    <tr>\n",
       "      <th>9</th>\n",
       "      <td>1.14068</td>\n",
       "      <td>1.14265</td>\n",
       "      <td>1.13922</td>\n",
       "      <td>59.126400</td>\n",
       "      <td>1.134624</td>\n",
       "      <td>1.136598</td>\n",
       "      <td>1.138771</td>\n",
       "      <td>1.13634</td>\n",
       "    </tr>\n",
       "    <tr>\n",
       "      <th>10</th>\n",
       "      <td>1.12613</td>\n",
       "      <td>1.12665</td>\n",
       "      <td>1.12189</td>\n",
       "      <td>36.693465</td>\n",
       "      <td>1.130799</td>\n",
       "      <td>1.134603</td>\n",
       "      <td>1.136642</td>\n",
       "      <td>1.12544</td>\n",
       "    </tr>\n",
       "    <tr>\n",
       "      <th>11</th>\n",
       "      <td>1.08557</td>\n",
       "      <td>1.08592</td>\n",
       "      <td>1.07930</td>\n",
       "      <td>25.014282</td>\n",
       "      <td>1.090882</td>\n",
       "      <td>1.114005</td>\n",
       "      <td>1.120378</td>\n",
       "      <td>1.08946</td>\n",
       "    </tr>\n",
       "    <tr>\n",
       "      <th>12</th>\n",
       "      <td>1.09848</td>\n",
       "      <td>1.10138</td>\n",
       "      <td>1.09697</td>\n",
       "      <td>60.455966</td>\n",
       "      <td>1.092475</td>\n",
       "      <td>1.105380</td>\n",
       "      <td>1.112474</td>\n",
       "      <td>1.09748</td>\n",
       "    </tr>\n",
       "    <tr>\n",
       "      <th>13</th>\n",
       "      <td>1.07772</td>\n",
       "      <td>1.08010</td>\n",
       "      <td>1.07616</td>\n",
       "      <td>30.046275</td>\n",
       "      <td>1.088268</td>\n",
       "      <td>1.101929</td>\n",
       "      <td>1.109143</td>\n",
       "      <td>1.07994</td>\n",
       "    </tr>\n",
       "    <tr>\n",
       "      <th>14</th>\n",
       "      <td>1.11701</td>\n",
       "      <td>1.12603</td>\n",
       "      <td>1.11346</td>\n",
       "      <td>64.381537</td>\n",
       "      <td>1.117393</td>\n",
       "      <td>1.106686</td>\n",
       "      <td>1.109091</td>\n",
       "      <td>1.13170</td>\n",
       "    </tr>\n",
       "    <tr>\n",
       "      <th>15</th>\n",
       "      <td>1.12497</td>\n",
       "      <td>1.13228</td>\n",
       "      <td>1.12367</td>\n",
       "      <td>70.131296</td>\n",
       "      <td>1.118756</td>\n",
       "      <td>1.107181</td>\n",
       "      <td>1.109391</td>\n",
       "      <td>1.12913</td>\n",
       "    </tr>\n",
       "    <tr>\n",
       "      <th>16</th>\n",
       "      <td>1.11552</td>\n",
       "      <td>1.11852</td>\n",
       "      <td>1.11382</td>\n",
       "      <td>44.021403</td>\n",
       "      <td>1.121267</td>\n",
       "      <td>1.111688</td>\n",
       "      <td>1.112155</td>\n",
       "      <td>1.12077</td>\n",
       "    </tr>\n",
       "    <tr>\n",
       "      <th>17</th>\n",
       "      <td>1.14450</td>\n",
       "      <td>1.14636</td>\n",
       "      <td>1.13941</td>\n",
       "      <td>42.328691</td>\n",
       "      <td>1.145370</td>\n",
       "      <td>1.130751</td>\n",
       "      <td>1.126275</td>\n",
       "      <td>1.14344</td>\n",
       "    </tr>\n",
       "    <tr>\n",
       "      <th>18</th>\n",
       "      <td>1.17213</td>\n",
       "      <td>1.17677</td>\n",
       "      <td>1.17173</td>\n",
       "      <td>78.459004</td>\n",
       "      <td>1.163591</td>\n",
       "      <td>1.140802</td>\n",
       "      <td>1.134217</td>\n",
       "      <td>1.17362</td>\n",
       "    </tr>\n",
       "    <tr>\n",
       "      <th>19</th>\n",
       "      <td>1.15633</td>\n",
       "      <td>1.15926</td>\n",
       "      <td>1.15322</td>\n",
       "      <td>44.912302</td>\n",
       "      <td>1.162727</td>\n",
       "      <td>1.146111</td>\n",
       "      <td>1.138977</td>\n",
       "      <td>1.16251</td>\n",
       "    </tr>\n",
       "    <tr>\n",
       "      <th>20</th>\n",
       "      <td>1.18284</td>\n",
       "      <td>1.18604</td>\n",
       "      <td>1.18244</td>\n",
       "      <td>69.822062</td>\n",
       "      <td>1.176373</td>\n",
       "      <td>1.155528</td>\n",
       "      <td>1.147109</td>\n",
       "      <td>1.17230</td>\n",
       "    </tr>\n",
       "    <tr>\n",
       "      <th>21</th>\n",
       "      <td>1.15650</td>\n",
       "      <td>1.16567</td>\n",
       "      <td>1.15526</td>\n",
       "      <td>47.311826</td>\n",
       "      <td>1.163221</td>\n",
       "      <td>1.161494</td>\n",
       "      <td>1.155067</td>\n",
       "      <td>1.16812</td>\n",
       "    </tr>\n",
       "    <tr>\n",
       "      <th>22</th>\n",
       "      <td>1.17098</td>\n",
       "      <td>1.17285</td>\n",
       "      <td>1.16780</td>\n",
       "      <td>53.243572</td>\n",
       "      <td>1.164092</td>\n",
       "      <td>1.161750</td>\n",
       "      <td>1.155408</td>\n",
       "      <td>1.16226</td>\n",
       "    </tr>\n",
       "    <tr>\n",
       "      <th>23</th>\n",
       "      <td>1.18048</td>\n",
       "      <td>1.18566</td>\n",
       "      <td>1.18026</td>\n",
       "      <td>66.487123</td>\n",
       "      <td>1.176544</td>\n",
       "      <td>1.166807</td>\n",
       "      <td>1.160944</td>\n",
       "      <td>1.17797</td>\n",
       "    </tr>\n",
       "    <tr>\n",
       "      <th>24</th>\n",
       "      <td>1.16739</td>\n",
       "      <td>1.17542</td>\n",
       "      <td>1.16735</td>\n",
       "      <td>51.465975</td>\n",
       "      <td>1.170045</td>\n",
       "      <td>1.168169</td>\n",
       "      <td>1.163500</td>\n",
       "      <td>1.16312</td>\n",
       "    </tr>\n",
       "    <tr>\n",
       "      <th>25</th>\n",
       "      <td>1.14175</td>\n",
       "      <td>1.14376</td>\n",
       "      <td>1.13783</td>\n",
       "      <td>30.761780</td>\n",
       "      <td>1.144829</td>\n",
       "      <td>1.158015</td>\n",
       "      <td>1.157920</td>\n",
       "      <td>1.15175</td>\n",
       "    </tr>\n",
       "    <tr>\n",
       "      <th>26</th>\n",
       "      <td>1.19696</td>\n",
       "      <td>1.19772</td>\n",
       "      <td>1.19446</td>\n",
       "      <td>72.887410</td>\n",
       "      <td>1.179213</td>\n",
       "      <td>1.164973</td>\n",
       "      <td>1.162756</td>\n",
       "      <td>1.19585</td>\n",
       "    </tr>\n",
       "    <tr>\n",
       "      <th>27</th>\n",
       "      <td>1.17733</td>\n",
       "      <td>1.18112</td>\n",
       "      <td>1.17519</td>\n",
       "      <td>45.899758</td>\n",
       "      <td>1.183255</td>\n",
       "      <td>1.173948</td>\n",
       "      <td>1.170006</td>\n",
       "      <td>1.17931</td>\n",
       "    </tr>\n",
       "    <tr>\n",
       "      <th>28</th>\n",
       "      <td>1.22660</td>\n",
       "      <td>1.22745</td>\n",
       "      <td>1.22288</td>\n",
       "      <td>69.652754</td>\n",
       "      <td>1.217115</td>\n",
       "      <td>1.197131</td>\n",
       "      <td>1.189729</td>\n",
       "      <td>1.22096</td>\n",
       "    </tr>\n",
       "    <tr>\n",
       "      <th>29</th>\n",
       "      <td>1.21546</td>\n",
       "      <td>1.21706</td>\n",
       "      <td>1.21123</td>\n",
       "      <td>47.317211</td>\n",
       "      <td>1.218685</td>\n",
       "      <td>1.202367</td>\n",
       "      <td>1.194556</td>\n",
       "      <td>1.22187</td>\n",
       "    </tr>\n",
       "    <tr>\n",
       "      <th>30</th>\n",
       "      <td>1.24226</td>\n",
       "      <td>1.24702</td>\n",
       "      <td>1.24199</td>\n",
       "      <td>63.973209</td>\n",
       "      <td>1.240518</td>\n",
       "      <td>1.225367</td>\n",
       "      <td>1.216157</td>\n",
       "      <td>1.24460</td>\n",
       "    </tr>\n",
       "    <tr>\n",
       "      <th>31</th>\n",
       "      <td>1.25914</td>\n",
       "      <td>1.25960</td>\n",
       "      <td>1.24698</td>\n",
       "      <td>65.340033</td>\n",
       "      <td>1.254634</td>\n",
       "      <td>1.238099</td>\n",
       "      <td>1.228786</td>\n",
       "      <td>1.25903</td>\n",
       "    </tr>\n",
       "    <tr>\n",
       "      <th>32</th>\n",
       "      <td>1.27958</td>\n",
       "      <td>1.28093</td>\n",
       "      <td>1.27403</td>\n",
       "      <td>71.387225</td>\n",
       "      <td>1.265915</td>\n",
       "      <td>1.246919</td>\n",
       "      <td>1.237172</td>\n",
       "      <td>1.27256</td>\n",
       "    </tr>\n",
       "    <tr>\n",
       "      <th>33</th>\n",
       "      <td>1.25863</td>\n",
       "      <td>1.26131</td>\n",
       "      <td>1.25590</td>\n",
       "      <td>40.617216</td>\n",
       "      <td>1.264805</td>\n",
       "      <td>1.250254</td>\n",
       "      <td>1.240697</td>\n",
       "      <td>1.27330</td>\n",
       "    </tr>\n",
       "    <tr>\n",
       "      <th>34</th>\n",
       "      <td>1.28405</td>\n",
       "      <td>1.28971</td>\n",
       "      <td>1.28319</td>\n",
       "      <td>68.363567</td>\n",
       "      <td>1.275956</td>\n",
       "      <td>1.256516</td>\n",
       "      <td>1.246435</td>\n",
       "      <td>1.27903</td>\n",
       "    </tr>\n",
       "    <tr>\n",
       "      <th>35</th>\n",
       "      <td>1.23828</td>\n",
       "      <td>1.24230</td>\n",
       "      <td>1.23337</td>\n",
       "      <td>26.421323</td>\n",
       "      <td>1.253047</td>\n",
       "      <td>1.258256</td>\n",
       "      <td>1.251279</td>\n",
       "      <td>1.23921</td>\n",
       "    </tr>\n",
       "    <tr>\n",
       "      <th>36</th>\n",
       "      <td>1.27655</td>\n",
       "      <td>1.27742</td>\n",
       "      <td>1.26679</td>\n",
       "      <td>54.877911</td>\n",
       "      <td>1.265134</td>\n",
       "      <td>1.259275</td>\n",
       "      <td>1.253836</td>\n",
       "      <td>1.26106</td>\n",
       "    </tr>\n",
       "    <tr>\n",
       "      <th>37</th>\n",
       "      <td>1.23911</td>\n",
       "      <td>1.24301</td>\n",
       "      <td>1.23506</td>\n",
       "      <td>37.016239</td>\n",
       "      <td>1.248332</td>\n",
       "      <td>1.255676</td>\n",
       "      <td>1.253053</td>\n",
       "      <td>1.24451</td>\n",
       "    </tr>\n",
       "    <tr>\n",
       "      <th>38</th>\n",
       "      <td>1.28648</td>\n",
       "      <td>1.29253</td>\n",
       "      <td>1.28611</td>\n",
       "      <td>66.008601</td>\n",
       "      <td>1.281031</td>\n",
       "      <td>1.268579</td>\n",
       "      <td>1.264250</td>\n",
       "      <td>1.28505</td>\n",
       "    </tr>\n",
       "    <tr>\n",
       "      <th>39</th>\n",
       "      <td>1.25263</td>\n",
       "      <td>1.25309</td>\n",
       "      <td>1.24509</td>\n",
       "      <td>30.035040</td>\n",
       "      <td>1.267277</td>\n",
       "      <td>1.268084</td>\n",
       "      <td>1.264781</td>\n",
       "      <td>1.24924</td>\n",
       "    </tr>\n",
       "  </tbody>\n",
       "</table>\n",
       "</div>"
      ],
      "text/plain": [
       "       open     high      low        RSI      EMAF      EMAM      EMAS  \\\n",
       "0   1.19243  1.19278  1.18619  62.179082  1.180532  1.172327  1.167391   \n",
       "1   1.15919  1.16215  1.15173  42.464545  1.156623  1.166813  1.165763   \n",
       "2   1.14504  1.14581  1.13974  38.824116  1.146391  1.160703  1.161693   \n",
       "3   1.15423  1.16079  1.15261  62.214987  1.149903  1.159695  1.160915   \n",
       "4   1.12636  1.13177  1.12587  33.774380  1.138308  1.152074  1.155086   \n",
       "5   1.13855  1.13924  1.13700  52.604493  1.135984  1.148306  1.152023   \n",
       "6   1.11307  1.11549  1.11123  32.035726  1.126018  1.141134  1.146101   \n",
       "7   1.14835  1.15487  1.14439  66.927754  1.143609  1.137926  1.141009   \n",
       "8   1.12297  1.12338  1.11348  18.241525  1.132956  1.138165  1.140390   \n",
       "9   1.14068  1.14265  1.13922  59.126400  1.134624  1.136598  1.138771   \n",
       "10  1.12613  1.12665  1.12189  36.693465  1.130799  1.134603  1.136642   \n",
       "11  1.08557  1.08592  1.07930  25.014282  1.090882  1.114005  1.120378   \n",
       "12  1.09848  1.10138  1.09697  60.455966  1.092475  1.105380  1.112474   \n",
       "13  1.07772  1.08010  1.07616  30.046275  1.088268  1.101929  1.109143   \n",
       "14  1.11701  1.12603  1.11346  64.381537  1.117393  1.106686  1.109091   \n",
       "15  1.12497  1.13228  1.12367  70.131296  1.118756  1.107181  1.109391   \n",
       "16  1.11552  1.11852  1.11382  44.021403  1.121267  1.111688  1.112155   \n",
       "17  1.14450  1.14636  1.13941  42.328691  1.145370  1.130751  1.126275   \n",
       "18  1.17213  1.17677  1.17173  78.459004  1.163591  1.140802  1.134217   \n",
       "19  1.15633  1.15926  1.15322  44.912302  1.162727  1.146111  1.138977   \n",
       "20  1.18284  1.18604  1.18244  69.822062  1.176373  1.155528  1.147109   \n",
       "21  1.15650  1.16567  1.15526  47.311826  1.163221  1.161494  1.155067   \n",
       "22  1.17098  1.17285  1.16780  53.243572  1.164092  1.161750  1.155408   \n",
       "23  1.18048  1.18566  1.18026  66.487123  1.176544  1.166807  1.160944   \n",
       "24  1.16739  1.17542  1.16735  51.465975  1.170045  1.168169  1.163500   \n",
       "25  1.14175  1.14376  1.13783  30.761780  1.144829  1.158015  1.157920   \n",
       "26  1.19696  1.19772  1.19446  72.887410  1.179213  1.164973  1.162756   \n",
       "27  1.17733  1.18112  1.17519  45.899758  1.183255  1.173948  1.170006   \n",
       "28  1.22660  1.22745  1.22288  69.652754  1.217115  1.197131  1.189729   \n",
       "29  1.21546  1.21706  1.21123  47.317211  1.218685  1.202367  1.194556   \n",
       "30  1.24226  1.24702  1.24199  63.973209  1.240518  1.225367  1.216157   \n",
       "31  1.25914  1.25960  1.24698  65.340033  1.254634  1.238099  1.228786   \n",
       "32  1.27958  1.28093  1.27403  71.387225  1.265915  1.246919  1.237172   \n",
       "33  1.25863  1.26131  1.25590  40.617216  1.264805  1.250254  1.240697   \n",
       "34  1.28405  1.28971  1.28319  68.363567  1.275956  1.256516  1.246435   \n",
       "35  1.23828  1.24230  1.23337  26.421323  1.253047  1.258256  1.251279   \n",
       "36  1.27655  1.27742  1.26679  54.877911  1.265134  1.259275  1.253836   \n",
       "37  1.23911  1.24301  1.23506  37.016239  1.248332  1.255676  1.253053   \n",
       "38  1.28648  1.29253  1.28611  66.008601  1.281031  1.268579  1.264250   \n",
       "39  1.25263  1.25309  1.24509  30.035040  1.267277  1.268084  1.264781   \n",
       "\n",
       "    TargetNextClose  \n",
       "0           1.18412  \n",
       "1           1.15354  \n",
       "2           1.14994  \n",
       "3           1.15608  \n",
       "4           1.13118  \n",
       "5           1.13504  \n",
       "6           1.11294  \n",
       "7           1.15079  \n",
       "8           1.11794  \n",
       "9           1.13634  \n",
       "10          1.12544  \n",
       "11          1.08946  \n",
       "12          1.09748  \n",
       "13          1.07994  \n",
       "14          1.13170  \n",
       "15          1.12913  \n",
       "16          1.12077  \n",
       "17          1.14344  \n",
       "18          1.17362  \n",
       "19          1.16251  \n",
       "20          1.17230  \n",
       "21          1.16812  \n",
       "22          1.16226  \n",
       "23          1.17797  \n",
       "24          1.16312  \n",
       "25          1.15175  \n",
       "26          1.19585  \n",
       "27          1.17931  \n",
       "28          1.22096  \n",
       "29          1.22187  \n",
       "30          1.24460  \n",
       "31          1.25903  \n",
       "32          1.27256  \n",
       "33          1.27330  \n",
       "34          1.27903  \n",
       "35          1.23921  \n",
       "36          1.26106  \n",
       "37          1.24451  \n",
       "38          1.28505  \n",
       "39          1.24924  "
      ]
     },
     "execution_count": 75,
     "metadata": {},
     "output_type": "execute_result"
    }
   ],
   "source": [
    "data_set = df.iloc[0:, 0:10]#.values\n",
    "pd.set_option('display.max_columns', None)\n",
    "\n",
    "data_set.head(40)"
   ]
  },
  {
   "cell_type": "code",
   "execution_count": 76,
   "metadata": {},
   "outputs": [
    {
     "name": "stdout",
     "output_type": "stream",
     "text": [
      "[[0.2756486  0.27190482 0.27108799 ... 0.23106296 0.21753266 0.25809393]\n",
      " [0.21617463 0.21767611 0.20968604 ... 0.22066569 0.21441565 0.20342528]\n",
      " [0.19085704 0.18874706 0.18832187 ... 0.20914486 0.20662167 0.19698947]\n",
      " ...\n",
      " [0.21991412 0.22098685 0.22584726 ... 0.22682302 0.22739181 0.21840642]\n",
      " [0.20908928 0.20577873 0.21184206 ... 0.22246765 0.22364304 0.20487334]\n",
      " [0.20479513 0.20237948 0.21095114 ... 0.21319584 0.21527202 0.20449792]]\n"
     ]
    }
   ],
   "source": [
    "from sklearn.preprocessing import MinMaxScaler\n",
    "sc = MinMaxScaler(feature_range=(0,1))\n",
    "data_set_scaled = sc.fit_transform(data_set)\n",
    "print(data_set_scaled)"
   ]
  },
  {
   "cell_type": "code",
   "execution_count": 82,
   "metadata": {},
   "outputs": [
    {
     "name": "stdout",
     "output_type": "stream",
     "text": [
      "1203\n",
      "(1173, 30, 7)\n",
      "(1173, 1)\n"
     ]
    }
   ],
   "source": [
    "# multiple feature from data provided to the model\n",
    "X = []\n",
    "#print(data_set_scaled[0].size)\n",
    "#data_set_scaled=data_set.values\n",
    "backcandles = 30\n",
    "print(data_set_scaled.shape[0])\n",
    "for j in range(7):#data_set_scaled[0].size):#2 columns are target not X\n",
    "    X.append([])\n",
    "    for i in range(backcandles, data_set_scaled.shape[0]):#backcandles+2\n",
    "        X[j].append(data_set_scaled[i-backcandles:i, j])\n",
    "\n",
    "#move axis from 0 to position 2\n",
    "X=np.moveaxis(X, [0], [2])\n",
    "\n",
    "#Erase first elements of y because of backcandles to match X length\n",
    "#del(yi[0:backcandles])\n",
    "#X, yi = np.array(X), np.array(yi)\n",
    "# Choose -1 for last column, classification else -2...\n",
    "X, yi =np.array(X), np.array(data_set_scaled[backcandles:,-1])\n",
    "y=np.reshape(yi,(len(yi),1))\n",
    "#y=sc.fit_transform(yi)\n",
    "#X_train = np.reshape(X_train, (X_train.shape[0], X_train.shape[1], 1))\n",
    "#print(X)\n",
    "print(X.shape)\n",
    "#print(y)\n",
    "print(y.shape)"
   ]
  },
  {
   "cell_type": "code",
   "execution_count": 90,
   "metadata": {},
   "outputs": [
    {
     "name": "stdout",
     "output_type": "stream",
     "text": [
      "Error: 0.08477220122159254 at epoch 1\n",
      "Error: 0.0018997505140680257 at epoch 2\n",
      "Error: 0.0021945430152002328 at epoch 3\n",
      "Error: 0.0022013040588154567 at epoch 4\n",
      "Error: 0.002201472644476457 at epoch 5\n",
      "Error: 0.0022015033042187765 at epoch 6\n",
      "Error: 0.0022015310820119754 at epoch 7\n",
      "Error: 0.002201558798970908 at epoch 8\n",
      "Error: 0.002201586513989681 at epoch 9\n",
      "Error: 0.002201614228251789 at epoch 10\n",
      "Error: 0.002201641941735186 at epoch 11\n",
      "Error: 0.0022016696543930075 at epoch 12\n",
      "Error: 0.002201697366178236 at epoch 13\n",
      "Error: 0.0022017250770442155 at epoch 14\n",
      "Error: 0.0022017527869446626 at epoch 15\n",
      "Error: 0.002201780495833662 at epoch 16\n",
      "Error: 0.0022018082036656655 at epoch 17\n",
      "Error: 0.002201835910395479 at epoch 18\n",
      "Error: 0.002201863615978275 at epoch 19\n",
      "Error: 0.002201891320369575 at epoch 20\n",
      "Error: 0.0022019190235252587 at epoch 21\n",
      "Error: 0.002201946725401548 at epoch 22\n",
      "Error: 0.0022019744259550176 at epoch 23\n",
      "Error: 0.002202002125142585 at epoch 24\n",
      "Error: 0.0022020298229215 at epoch 25\n",
      "Error: 0.0022020575192493595 at epoch 26\n",
      "Error: 0.002202085214084093 at epoch 27\n",
      "Error: 0.002202112907383954 at epoch 28\n",
      "Error: 0.0022021405991075357 at epoch 29\n",
      "Error: 0.00220216828921375 at epoch 30\n",
      "Error: 0.002202195977661835 at epoch 31\n",
      "Error: 0.002202223664411347 at epoch 32\n",
      "Error: 0.0022022513494221645 at epoch 33\n",
      "Error: 0.002202279032654475 at epoch 34\n",
      "Error: 0.0022023067140687835 at epoch 35\n",
      "Error: 0.002202334393625904 at epoch 36\n",
      "Error: 0.002202362071286955 at epoch 37\n",
      "Error: 0.0022023897470133573 at epoch 38\n",
      "Error: 0.0022024174207668423 at epoch 39\n",
      "Error: 0.0022024450925094328 at epoch 40\n",
      "Error: 0.0022024727622034514 at epoch 41\n",
      "Error: 0.002202500429811515 at epoch 42\n",
      "Error: 0.002202528095296532 at epoch 43\n",
      "Error: 0.0022025557586216964 at epoch 44\n",
      "Error: 0.0022025834197504975 at epoch 45\n",
      "Error: 0.002202611078646702 at epoch 46\n",
      "Error: 0.00220263873527436 at epoch 47\n",
      "Error: 0.0022026663895978 at epoch 48\n",
      "Error: 0.0022026940415816342 at epoch 49\n",
      "Error: 0.002202721691190741 at epoch 50\n",
      "Training complete!\n",
      "=====\n",
      "\n",
      "Our network believes that 0.1908570406154948 + 0.18874705663651015 is equal to 0.3097189331730037\n"
     ]
    }
   ],
   "source": [
    "class MLP(object):\n",
    "    \"\"\"A Multilayer Perceptron class.\n",
    "    \"\"\"\n",
    "\n",
    "    def __init__(self, num_inputs=3, hidden_layers=[3, 3], num_outputs=2):\n",
    "        \"\"\"Constructor for the MLP. Takes the number of inputs,\n",
    "            a variable number of hidden layers, and number of outputs\n",
    "        Args:\n",
    "            num_inputs (int): Number of inputs\n",
    "            hidden_layers (list): A list of ints for the hidden layers\n",
    "            num_outputs (int): Number of outputs\n",
    "        \"\"\"\n",
    "\n",
    "        self.num_inputs = num_inputs\n",
    "        self.hidden_layers = hidden_layers\n",
    "        self.num_outputs = num_outputs\n",
    "\n",
    "        # create a generic representation of the layers\n",
    "        layers = [num_inputs] + hidden_layers + [num_outputs]\n",
    "\n",
    "        # create random connection weights for the layers\n",
    "        weights = []\n",
    "        for i in range(len(layers) - 1):\n",
    "            w = np.random.rand(layers[i], layers[i + 1])\n",
    "            weights.append(w)\n",
    "        self.weights = weights\n",
    "\n",
    "        # save derivatives per layer\n",
    "        derivatives = []\n",
    "        for i in range(len(layers) - 1):\n",
    "            d = np.zeros((layers[i], layers[i + 1]))\n",
    "            derivatives.append(d)\n",
    "        self.derivatives = derivatives\n",
    "\n",
    "        # save activations per layer\n",
    "        activations = []\n",
    "        for i in range(len(layers)):\n",
    "            a = np.zeros(layers[i])\n",
    "            activations.append(a)\n",
    "        self.activations = activations\n",
    "\n",
    "\n",
    "    def forward_propagate(self, inputs):\n",
    "        \"\"\"Computes forward propagation of the network based on input signals.\n",
    "        Args:\n",
    "            inputs (ndarray): Input signals\n",
    "        Returns:\n",
    "            activations (ndarray): Output values\n",
    "        \"\"\"\n",
    "\n",
    "        # the input layer activation is just the input itself\n",
    "        activations = inputs\n",
    "\n",
    "        # save the activations for backpropogation\n",
    "        self.activations[0] = activations\n",
    "\n",
    "        # iterate through the network layers\n",
    "        for i, w in enumerate(self.weights):\n",
    "            # calculate matrix multiplication between previous activation and weight matrix\n",
    "            net_inputs = np.dot(activations, w)\n",
    "\n",
    "            # apply sigmoid activation function\n",
    "            activations = self._sigmoid(net_inputs)\n",
    "\n",
    "            # save the activations for backpropogation\n",
    "            self.activations[i + 1] = activations\n",
    "\n",
    "        # return output layer activation\n",
    "        return activations\n",
    "\n",
    "\n",
    "    def back_propagate(self, error):\n",
    "        \"\"\"Backpropogates an error signal.\n",
    "        Args:\n",
    "            error (ndarray): The error to backprop.\n",
    "        Returns:\n",
    "            error (ndarray): The final error of the input\n",
    "        \"\"\"\n",
    "\n",
    "        # iterate backwards through the network layers\n",
    "        for i in reversed(range(len(self.derivatives))):\n",
    "\n",
    "            # get activation for previous layer\n",
    "            activations = self.activations[i+1]\n",
    "\n",
    "            # apply sigmoid derivative function\n",
    "            delta = error * self._sigmoid_derivative(activations)\n",
    "\n",
    "            # reshape delta as to have it as a 2d array\n",
    "            delta_re = delta.reshape(delta.shape[0], -1).T\n",
    "\n",
    "            # get activations for current layer\n",
    "            current_activations = self.activations[i]\n",
    "\n",
    "            # reshape activations as to have them as a 2d column matrix\n",
    "            current_activations = current_activations.reshape(current_activations.shape[0],-1)\n",
    "\n",
    "            # save derivative after applying matrix multiplication\n",
    "            self.derivatives[i] = np.dot(current_activations, delta_re)\n",
    "\n",
    "            # backpropogate the next error\n",
    "            error = np.dot(delta, self.weights[i].T)\n",
    "\n",
    "\n",
    "    def train(self, inputs, targets, epochs, learning_rate):\n",
    "        \"\"\"Trains model running forward prop and backprop\n",
    "        Args:\n",
    "            inputs (ndarray): X\n",
    "            targets (ndarray): Y\n",
    "            epochs (int): Num. epochs we want to train the network for\n",
    "            learning_rate (float): Step to apply to gradient descent\n",
    "        \"\"\"\n",
    "        # now enter the training loop\n",
    "        for i in range(epochs):\n",
    "            sum_errors = 0\n",
    "\n",
    "            # iterate through all the training data\n",
    "            for j, input in enumerate(inputs):\n",
    "                target = targets[j]\n",
    "\n",
    "                # activate the network!\n",
    "                output = self.forward_propagate(input)\n",
    "\n",
    "                error = target - output\n",
    "\n",
    "                self.back_propagate(error)\n",
    "\n",
    "                # now perform gradient descent on the derivatives\n",
    "                # (this will update the weights\n",
    "                self.gradient_descent(learning_rate)\n",
    "\n",
    "                # keep track of the MSE for reporting later\n",
    "                sum_errors += self._mse(target, output)\n",
    "\n",
    "            # Epoch complete, report the training error\n",
    "            print(\"Error: {} at epoch {}\".format(sum_errors / len(items), i+1))\n",
    "\n",
    "        print(\"Training complete!\")\n",
    "        print(\"=====\")\n",
    "\n",
    "\n",
    "    def gradient_descent(self, learningRate=1):\n",
    "        \"\"\"Learns by descending the gradient\n",
    "        Args:\n",
    "            learningRate (float): How fast to learn.\n",
    "        \"\"\"\n",
    "        # update the weights by stepping down the gradient\n",
    "        for i in range(len(self.weights)):\n",
    "            weights = self.weights[i]\n",
    "            derivatives = self.derivatives[i]\n",
    "            weights += derivatives * learningRate\n",
    "\n",
    "\n",
    "    def _sigmoid(self, x):\n",
    "        \"\"\"Sigmoid activation function\n",
    "        Args:\n",
    "            x (float): Value to be processed\n",
    "        Returns:\n",
    "            y (float): Output\n",
    "        \"\"\"\n",
    "\n",
    "        y = 1.0 / (1 + np.exp(-x))\n",
    "        return y\n",
    "\n",
    "\n",
    "    def _sigmoid_derivative(self, x):\n",
    "        \"\"\"Sigmoid derivative function\n",
    "        Args:\n",
    "            x (float): Value to be processed\n",
    "        Returns:\n",
    "            y (float): Output\n",
    "        \"\"\"\n",
    "        return x * (1.0 - x)\n",
    "\n",
    "\n",
    "    def _mse(self, target, output):\n",
    "        \"\"\"Mean Squared Error loss function\n",
    "        Args:\n",
    "            target (ndarray): The ground trut\n",
    "            output (ndarray): The predicted values\n",
    "        Returns:\n",
    "            (float): Output\n",
    "        \"\"\"\n",
    "        return np.average((target - output) ** 2)\n",
    "\n",
    "\n",
    "if __name__ == \"__main__\":\n",
    "\n",
    "    # create a dataset to train a network for the sum operation\n",
    "    items = X[1]\n",
    "    targets = y\n",
    "\n",
    "    # create a Multilayer Perceptron with one hidden layer\n",
    "    mlp = MLP(7, [5], 1)\n",
    "\n",
    "    # train network\n",
    "    mlp.train(items, targets, 50, 1)\n",
    "\n",
    "    # create dummy data\n",
    "    input = X[1][1]\n",
    "    target = y[1]\n",
    "\n",
    "    # get a prediction\n",
    "    output = mlp.forward_propagate(input)\n",
    "\n",
    "    print()\n",
    "    print(\"Our network believes that {} + {} is equal to {}\".format(input[0], input[1], output[0]))"
   ]
  },
  {
   "cell_type": "code",
   "execution_count": null,
   "metadata": {},
   "outputs": [],
   "source": []
  }
 ],
 "metadata": {
  "kernelspec": {
   "display_name": "Python 3",
   "language": "python",
   "name": "python3"
  },
  "language_info": {
   "codemirror_mode": {
    "name": "ipython",
    "version": 3
   },
   "file_extension": ".py",
   "mimetype": "text/x-python",
   "name": "python",
   "nbconvert_exporter": "python",
   "pygments_lexer": "ipython3",
   "version": "3.8.3"
  }
 },
 "nbformat": 4,
 "nbformat_minor": 5
}
